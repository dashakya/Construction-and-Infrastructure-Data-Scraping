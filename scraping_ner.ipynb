{
  "cells": [
    {
      "cell_type": "code",
      "execution_count": null,
      "id": "Muzjb3BGp1c8",
      "metadata": {
        "colab": {
          "base_uri": "https://localhost:8080/"
        },
        "id": "Muzjb3BGp1c8",
        "outputId": "34d3f527-4b1d-4583-c424-45ba87815fae"
      },
      "outputs": [],
      "source": [
        "# pip install pycountry"
      ]
    },
    {
      "cell_type": "code",
      "execution_count": null,
      "id": "58a25ea1-8ebf-4ccf-9794-3a6476ab9f9a",
      "metadata": {
        "colab": {
          "base_uri": "https://localhost:8080/"
        },
        "id": "58a25ea1-8ebf-4ccf-9794-3a6476ab9f9a",
        "outputId": "6ad40165-f9fd-4ea7-e504-28d10939579d"
      },
      "outputs": [],
      "source": [
        "# !pip install spacy"
      ]
    },
    {
      "cell_type": "code",
      "execution_count": null,
      "id": "266c7d3e-e857-4cea-96f5-08e7c52468e6",
      "metadata": {
        "colab": {
          "base_uri": "https://localhost:8080/"
        },
        "id": "266c7d3e-e857-4cea-96f5-08e7c52468e6",
        "outputId": "29a4f7ea-cdab-4433-e42f-025d53beff47"
      },
      "outputs": [],
      "source": [
        "!python -m spacy download en_core_web_sm"
      ]
    },
    {
      "cell_type": "code",
      "execution_count": 3,
      "id": "4e9ccb7c-f72b-4370-bfb9-c4ca2cae6b80",
      "metadata": {
        "id": "4e9ccb7c-f72b-4370-bfb9-c4ca2cae6b80"
      },
      "outputs": [],
      "source": [
        "import requests\n",
        "from bs4 import BeautifulSoup\n",
        "import csv\n",
        "import pandas as pd\n",
        "import spacy\n"
      ]
    },
    {
      "cell_type": "code",
      "execution_count": null,
      "id": "eb3ef9ff-4d3b-41c4-80e5-8d34502bf6d5",
      "metadata": {
        "colab": {
          "base_uri": "https://localhost:8080/"
        },
        "id": "eb3ef9ff-4d3b-41c4-80e5-8d34502bf6d5",
        "outputId": "e4f56725-9ace-405b-e858-2510c25997ff"
      },
      "outputs": [],
      "source": [
        "url = input(\"Enter the URL: \")\n",
        "# Replace this URL with the URL you want to scrape\n",
        "\n",
        "# Send a request to the URL\n",
        "response = requests.get(url)\n",
        "\n",
        "# Parse the page content with BeautifulSoup\n",
        "soup = BeautifulSoup(response.content, 'html.parser')"
      ]
    },
    {
      "cell_type": "code",
      "execution_count": null,
      "id": "342e19df-a988-4196-8171-3fbfcf3d9970",
      "metadata": {
        "id": "342e19df-a988-4196-8171-3fbfcf3d9970"
      },
      "outputs": [],
      "source": [
        "# Find all parents with class 'fr-view'\n",
        "parents = soup.find_all(class_=\"fr-view\")\n"
      ]
    },
    {
      "cell_type": "code",
      "execution_count": null,
      "id": "f1d3f71a-0b01-467d-98fc-a058add2e7ec",
      "metadata": {
        "colab": {
          "base_uri": "https://localhost:8080/"
        },
        "id": "f1d3f71a-0b01-467d-98fc-a058add2e7ec",
        "outputId": "ae92fc70-2e8d-412e-d5ca-b7a64973118b"
      },
      "outputs": [],
      "source": [
        "projects = []\n",
        "\n",
        "# Iterate through each parent and find links (a tags)\n",
        "for parent in parents:\n",
        "    for a_tag in parent.find_all('a', href=True):\n",
        "        project_url = a_tag['href']\n",
        "\n",
        "        try:\n",
        "            # Visit the project link\n",
        "            project_response = requests.get(project_url)\n",
        "            project_response.raise_for_status()  # Check if the request was successful\n",
        "\n",
        "            project_soup = BeautifulSoup(project_response.content, 'html.parser')\n",
        "\n",
        "            # Extract project title (usually in h1 or h2 tag, but depends on site structure)\n",
        "            project_title = project_soup.find('h1') or project_soup.find('h2')\n",
        "            if project_title:\n",
        "                project_title = project_title.text.strip()\n",
        "\n",
        "            # Extract project details (assuming details are in <p> tags)\n",
        "            project_details = project_soup.get_text(separator=\"\\n\")\n",
        "            project_details = \"\\n\".join([line.strip() for line in project_details.splitlines() if line.strip()])\n",
        "\n",
        "            # Append the project data to the list with the URL\n",
        "            projects.append({\n",
        "                \"title\": project_title,\n",
        "                \"details\": project_details,\n",
        "                \"url\": project_url  # Add the URL to the dictionary\n",
        "            })\n",
        "\n",
        "        except requests.exceptions.RequestException as e:\n",
        "            print(f\"Error fetching {project_url}: {e}\")\n",
        "            continue  # Skip this URL and continue with the next one\n"
      ]
    },
    {
      "cell_type": "code",
      "execution_count": null,
      "id": "c3f541b4-3287-4c02-8239-8148d44c0d11",
      "metadata": {
        "colab": {
          "base_uri": "https://localhost:8080/"
        },
        "id": "c3f541b4-3287-4c02-8239-8148d44c0d11",
        "outputId": "007de0de-bec9-43a0-9a80-35f920e3b65d"
      },
      "outputs": [],
      "source": [
        "\n",
        "# Save the project data into a CSV file\n",
        "with open('scraped.csv', mode='w', newline='') as file:\n",
        "    writer = csv.DictWriter(file, fieldnames=[\"title\", \"details\",\"url\"])\n",
        "    writer.writeheader()\n",
        "    writer.writerows(projects)\n",
        "\n",
        "print(\"Data has been saved to csv\")"
      ]
    },
    {
      "cell_type": "markdown",
      "id": "4a493ef3-59a3-4fcb-a261-a4209257fb05",
      "metadata": {
        "id": "4a493ef3-59a3-4fcb-a261-a4209257fb05"
      },
      "source": [
        "### Extracting entities using NER and getting final output"
      ]
    },
    {
      "cell_type": "code",
      "execution_count": null,
      "id": "8181d601-03fc-4c6f-96df-46d97ef16048",
      "metadata": {
        "colab": {
          "base_uri": "https://localhost:8080/",
          "height": 1000
        },
        "id": "8181d601-03fc-4c6f-96df-46d97ef16048",
        "outputId": "486856bc-a2ea-44be-ec1b-0e32b069b4d3",
        "scrolled": true
      },
      "outputs": [],
      "source": [
        "df = pd.read_csv('scraped.csv')\n",
        "df"
      ]
    },
    {
      "cell_type": "code",
      "execution_count": null,
      "id": "7bf18028-f34a-4be2-9c12-ba477dc86f81",
      "metadata": {
        "colab": {
          "base_uri": "https://localhost:8080/",
          "height": 1000
        },
        "id": "7bf18028-f34a-4be2-9c12-ba477dc86f81",
        "outputId": "6657eca9-8d8a-4bba-939c-a4aae403d184"
      },
      "outputs": [],
      "source": [
        "df['details']"
      ]
    },
    {
      "cell_type": "code",
      "execution_count": null,
      "id": "68c1d4c7-b9d3-4e9a-9491-ceadfea21bc5",
      "metadata": {
        "colab": {
          "base_uri": "https://localhost:8080/",
          "height": 140
        },
        "id": "68c1d4c7-b9d3-4e9a-9491-ceadfea21bc5",
        "outputId": "24c20c4e-25f4-4cce-aad1-ab6124e8e7ad"
      },
      "outputs": [],
      "source": [
        "df['details'][0]\n"
      ]
    },
    {
      "cell_type": "code",
      "execution_count": null,
      "id": "dffb248e-5f62-4680-9f59-99604fb5621c",
      "metadata": {
        "id": "dffb248e-5f62-4680-9f59-99604fb5621c"
      },
      "outputs": [],
      "source": [
        "# Load a pre-trained NLP model from SpaCy\n",
        "nlp = spacy.load(\"en_core_web_sm\")"
      ]
    },
    {
      "cell_type": "code",
      "execution_count": null,
      "id": "24f9d3e0-ac80-4318-a7da-a6d4a4693f8a",
      "metadata": {
        "id": "24f9d3e0-ac80-4318-a7da-a6d4a4693f8a"
      },
      "outputs": [],
      "source": [
        "\n",
        "# Function to extract entities\n",
        "def extract_entities(text):\n",
        "    if isinstance(text, str):  # Check if the input is a string\n",
        "        doc = nlp(text)\n",
        "        return [(ent.text, ent.label_) for ent in doc.ents]\n",
        "    else:\n",
        "        return []  # Return an empty list if the input is not a string\n"
      ]
    },
    {
      "cell_type": "code",
      "execution_count": null,
      "id": "0761694e-1035-483c-a273-addb26284e63",
      "metadata": {
        "id": "0761694e-1035-483c-a273-addb26284e63"
      },
      "outputs": [],
      "source": [
        "\n",
        "# Apply the function to each row in the 'details' column\n",
        "df['entities'] = df['details'].apply(extract_entities)"
      ]
    },
    {
      "cell_type": "code",
      "execution_count": null,
      "id": "58c1e838-a090-473f-b0eb-eb51c4a547d2",
      "metadata": {
        "id": "58c1e838-a090-473f-b0eb-eb51c4a547d2"
      },
      "outputs": [],
      "source": [
        "# Function to map entities to the required attributes\n",
        "from geopy.geocoders import Nominatim\n",
        "from geopy.geocoders import Nominatim\n",
        "import pycountry\n",
        "import requests\n",
        "\n",
        "\n",
        "def map_entities(row):\n",
        "    entity_dict = {ent[1]: ent[0] for ent in row['entities']}\n",
        "\n",
        "    country_name = entity_dict.get('GPE', 'na')\n",
        "\n",
        "    # Country Name\n",
        "    def find_country(city_name):\n",
        "      geolocator = Nominatim(user_agent=\"my_geocoding_app\")\n",
        "      location = geolocator.geocode(city_name)\n",
        "\n",
        "\n",
        "      if location:\n",
        "          address = location.raw['display_name'].split(', ')\n",
        "          return address[-1]\n",
        "      else:\n",
        "          return 'Country not found'\n",
        "\n",
        "    city = country_name\n",
        "    country_name = find_country(city)\n",
        "\n",
        "    # Country code\n",
        "    def find_country_code(city_name):\n",
        "        geolocator = Nominatim(user_agent=\"my_geocoding_app\")\n",
        "        location = geolocator.geocode(city_name)\n",
        "\n",
        "        if location:\n",
        "            try:\n",
        "                country = pycountry.countries.lookup(country_name)\n",
        "                return country.alpha_2\n",
        "            except LookupError:\n",
        "                return 'NA'\n",
        "        else:\n",
        "            return 'NA'\n",
        "\n",
        "    city = country_name\n",
        "    country_code = find_country_code(city)\n",
        "\n",
        "    region_name = entity_dict.get('LOC', 'na')\n",
        "\n",
        "\n",
        "    # Create a dictionary for the CSV row\n",
        "    row_dict = {\n",
        "        'original_id': row['original_id'] if 'original_id' in row else 'na',\n",
        "        'aug_id': row['aug_id'] if 'aug_id' in row else 'na',\n",
        "        'country_name': country_name,\n",
        "        'country_code': country_code,\n",
        "        'region_name': region_name,\n",
        "        'region_code': 'na',\n",
        "        'latitude': 'na',\n",
        "        'longitude': 'na',\n",
        "        'url': row['url'] if 'url' in row else 'na',\n",
        "        'title': row['title'] if 'title' in row else 'na',\n",
        "        'description': row['details'] if 'details' in row else 'na',\n",
        "        'status': row['status'] if 'status' in row else 'na',\n",
        "        'timestamp': row['timestamp'] if 'timestamp' in row else 'na',\n",
        "        'timestamp_label': 'na',\n",
        "        'budget': 'na',\n",
        "        'budget_label': 'na',\n",
        "        'currency': 'na',\n",
        "        'sector': 'na',\n",
        "        'subsector': 'na',\n",
        "        'document_urls': 'na',\n",
        "        'org':row['org'] if 'org' in row else 'na',\n",
        "        'date':row['date'] if 'date' in row else 'na',\n",
        "\n",
        "    }\n",
        "    return row_dict\n",
        "\n"
      ]
    },
    {
      "cell_type": "code",
      "execution_count": null,
      "id": "bd857201-c518-4b0d-85a7-536e5b888be2",
      "metadata": {
        "colab": {
          "base_uri": "https://localhost:8080/"
        },
        "id": "bd857201-c518-4b0d-85a7-536e5b888be2",
        "outputId": "d390c964-d1f7-4859-c211-a03f8f79013d"
      },
      "outputs": [],
      "source": [
        "# Apply the mapping function to each row in the DataFrame\n",
        "csv_data = df.apply(map_entities, axis=1)\n",
        "\n",
        "# Create a new DataFrame from the mapped data\n",
        "csv_df = pd.DataFrame(list(csv_data))\n",
        "\n"
      ]
    },
    {
      "cell_type": "code",
      "execution_count": null,
      "id": "11050ae8-41ed-4f6f-b25c-d210de7cd6e0",
      "metadata": {
        "colab": {
          "base_uri": "https://localhost:8080/"
        },
        "id": "11050ae8-41ed-4f6f-b25c-d210de7cd6e0",
        "outputId": "999fbf8f-303a-4571-db78-48f094c0a9ab"
      },
      "outputs": [],
      "source": [
        "# Save the DataFrame to a CSV file\n",
        "csv_df.to_csv('final.csv', index=False)\n",
        "\n",
        "print(\"CSV file 'final.csv' has been created.\")\n"
      ]
    },
    {
      "cell_type": "code",
      "execution_count": null,
      "id": "ZsuF0QZ-0qiB",
      "metadata": {
        "colab": {
          "base_uri": "https://localhost:8080/",
          "height": 464
        },
        "id": "ZsuF0QZ-0qiB",
        "outputId": "562f722a-4008-485a-c187-20213d7b67df"
      },
      "outputs": [],
      "source": [
        "output = pd.read_csv(\"final.csv\")\n",
        "output.head(5)"
      ]
    },
    {
      "cell_type": "code",
      "execution_count": null,
      "id": "LsBRum4of6gy",
      "metadata": {
        "id": "LsBRum4of6gy"
      },
      "outputs": [],
      "source": []
    }
  ],
  "metadata": {
    "colab": {
      "provenance": []
    },
    "kernelspec": {
      "display_name": "Python 3 (ipykernel)",
      "language": "python",
      "name": "python3"
    },
    "language_info": {
      "codemirror_mode": {
        "name": "ipython",
        "version": 3
      },
      "file_extension": ".py",
      "mimetype": "text/x-python",
      "name": "python",
      "nbconvert_exporter": "python",
      "pygments_lexer": "ipython3",
      "version": "3.11.9"
    }
  },
  "nbformat": 4,
  "nbformat_minor": 5
}
